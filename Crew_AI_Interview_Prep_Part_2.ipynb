{
  "nbformat": 4,
  "nbformat_minor": 0,
  "metadata": {
    "colab": {
      "provenance": [],
      "toc_visible": true,
      "mount_file_id": "1lyls6B9yejE107N-vqCoG3HP0o_aryPM",
      "authorship_tag": "ABX9TyMDN4gl/7NXTphOZxuD7dtC",
      "include_colab_link": true
    },
    "kernelspec": {
      "name": "python3",
      "display_name": "Python 3"
    },
    "language_info": {
      "name": "python"
    }
  },
  "cells": [
    {
      "cell_type": "markdown",
      "metadata": {
        "id": "view-in-github",
        "colab_type": "text"
      },
      "source": [
        "<a href=\"https://colab.research.google.com/github/Dromediansk/job-preparation-crewai/blob/main/Crew_AI_Interview_Prep_Part_2.ipynb\" target=\"_parent\"><img src=\"https://colab.research.google.com/assets/colab-badge.svg\" alt=\"Open In Colab\"/></a>"
      ]
    },
    {
      "cell_type": "markdown",
      "source": [
        "# Setup"
      ],
      "metadata": {
        "id": "IVOI3BLblw1w"
      }
    },
    {
      "cell_type": "code",
      "execution_count": null,
      "metadata": {
        "id": "aSIIMyfGlYc_",
        "collapsed": true
      },
      "outputs": [],
      "source": [
        "!pip install 'crewai[tools]' -q"
      ]
    },
    {
      "cell_type": "code",
      "source": [
        "%cd /content/drive/MyDrive/Colab Notebooks/CrewAI Interview Prep Part 2"
      ],
      "metadata": {
        "id": "Z_Ojy3mYl_XF"
      },
      "execution_count": null,
      "outputs": []
    },
    {
      "cell_type": "code",
      "source": [
        "# Retrieve API keys and store them as Environment variables\n",
        "from google.colab import userdata\n",
        "openai_api_key = userdata.get('AI_AGENTS_OPENAI')\n",
        "serper_api_key = userdata.get('SERPER_API_KEY')\n",
        "\n",
        "import os\n",
        "os.environ['OPENAI_API_KEY'] = openai_api_key\n",
        "os.environ['SERPER_API_KEY'] = serper_api_key\n"
      ],
      "metadata": {
        "id": "2bi_i4Xhmlzm"
      },
      "execution_count": null,
      "outputs": []
    },
    {
      "cell_type": "code",
      "source": [
        "# Import libraries\n",
        "from crewai import Agent, Crew, Process, Task\n",
        "from langchain_openai import ChatOpenAI\n",
        "from IPython.display import display, Markdown\n",
        "from crewai_tools import ScrapeWebsiteTool, SerperDevTool"
      ],
      "metadata": {
        "id": "9oLSs9DjnfaX"
      },
      "execution_count": null,
      "outputs": []
    },
    {
      "cell_type": "code",
      "source": [
        "llm = ChatOpenAI(model = 'gpt-4o', temperature=0.5)"
      ],
      "metadata": {
        "id": "pbuX7j6UoquD"
      },
      "execution_count": null,
      "outputs": []
    },
    {
      "cell_type": "markdown",
      "source": [
        "# User Inputs"
      ],
      "metadata": {
        "id": "Hb6DoA72rE9s"
      }
    },
    {
      "cell_type": "code",
      "source": [
        "# Call for inputs: Inverviewer, company, job position, job description:\n",
        "interviewer = input('Enter the name of the interviewer: ')\n",
        "company = input('Enter the name of the company: ')\n",
        "job_position = input('Enter the job position: ')\n",
        "job_description = input('Enter the job description: ')"
      ],
      "metadata": {
        "id": "dwWj70Bqo35q",
        "collapsed": true
      },
      "execution_count": null,
      "outputs": []
    },
    {
      "cell_type": "markdown",
      "source": [
        "# Research Crew"
      ],
      "metadata": {
        "id": "Ru2MMbbVsGn3"
      }
    },
    {
      "cell_type": "markdown",
      "source": [
        "## Research AI Agent"
      ],
      "metadata": {
        "id": "4tZMeojosI-X"
      }
    },
    {
      "cell_type": "code",
      "source": [
        "# Create the Research AI Agent\n",
        "research_agent = Agent(\n",
        "    role = \"Research Agent\",\n",
        "    goal = \"Conduct in-depth research\",\n",
        "    backstory = \"\"\"\n",
        "    As a Research Specialist, your mission is to uncover detailed and relevant information.\n",
        "    The ultimate goal is to meet the expectations of the task\n",
        "    \"\"\",\n",
        "    llm = llm,\n",
        "    tools = [ScrapeWebsiteTool(), SerperDevTool()]\n",
        ")"
      ],
      "metadata": {
        "id": "7O8KxPlmpECJ"
      },
      "execution_count": null,
      "outputs": []
    },
    {
      "cell_type": "markdown",
      "source": [
        "### Research Tasks"
      ],
      "metadata": {
        "id": "KDOIfDmCthg0"
      }
    },
    {
      "cell_type": "code",
      "source": [
        "# Define the task about researching the company\n",
        "research_company_task = Task(\n",
        "    description = f\"\"\"\n",
        "    Research about {company}, their position in the sector and recent industry trends.\n",
        "    Focus on recent news and development from last 12 months\n",
        "    \"\"\",\n",
        "    expected_output = f\"\"\" A comprehensive report in Markdown with bullet points about {company}\"\"\",\n",
        "    agent = research_agent\n",
        ")"
      ],
      "metadata": {
        "id": "3Cvzuv4CtVAU"
      },
      "execution_count": null,
      "outputs": []
    },
    {
      "cell_type": "code",
      "source": [
        "# Research Interviewer Task\n",
        "research_person_task = Task(\n",
        "    description = f\"Research about {interviewer} with a focus on their professional career\",\n",
        "    expected_output= f\"\"\" A comprehensive report in Markdown with bullet points about {interviewer}\"\"\",\n",
        "    agent = research_agent\n",
        ")"
      ],
      "metadata": {
        "id": "WIaJn9x6uU6s"
      },
      "execution_count": null,
      "outputs": []
    },
    {
      "cell_type": "markdown",
      "source": [
        "### AI Coach + Interview Prep"
      ],
      "metadata": {
        "id": "MTVIEdMavNAl"
      }
    },
    {
      "cell_type": "code",
      "source": [
        "# Build the AI interview coach agent\n",
        "coach_agent = Agent(\n",
        "    role = \"Interview Coach\",\n",
        "    goal = f\"I help the user to prepare for the job interview for job {job_position}\",\n",
        "    backstory = f\"You are an expert in job interviews in companies like {company}\",\n",
        "    llm = llm\n",
        "    )"
      ],
      "metadata": {
        "id": "bs_y00WsvLWs"
      },
      "execution_count": null,
      "outputs": []
    },
    {
      "cell_type": "code",
      "source": [
        "# Prepare the list of questions\n",
        "define_questions_task = Task(\n",
        "    description = f\"\"\"\n",
        "    Define a list of questions based on the company {company}, job description {job_description} and interviewer {interviewer}\n",
        "\"\"\",\n",
        "    expected_output= f\"\"\"A list of 20 questions in Markdown format that cover: Culture and Team fit, Job position fit, Background and ways of working, Growth Mindset\"\"\",\n",
        "    agent = coach_agent,\n",
        "    context = [research_company_task, research_person_task]\n",
        ")"
      ],
      "metadata": {
        "id": "QtHNzr2GvtYL"
      },
      "execution_count": null,
      "outputs": []
    },
    {
      "cell_type": "markdown",
      "source": [
        "## Assemble the Crew"
      ],
      "metadata": {
        "id": "C1Sx8AgYwpOx"
      }
    },
    {
      "cell_type": "code",
      "source": [
        "# Assembling the crew\n",
        "crew = Crew(\n",
        "    agents = [research_agent, coach_agent],\n",
        "    tasks = [research_company_task, research_person_task, define_questions_task],\n",
        "    verbose = True,\n",
        "    process = Process.sequential\n",
        ")\n",
        "result = crew.kickoff({\"topic\": \"Write a list of questions to prepare user for the interview\"})"
      ],
      "metadata": {
        "id": "8JU2DopbwhYg"
      },
      "execution_count": null,
      "outputs": []
    },
    {
      "cell_type": "markdown",
      "source": [
        "# Exporting"
      ],
      "metadata": {
        "id": "oTLNlLaX4pou"
      }
    },
    {
      "cell_type": "code",
      "source": [
        "# Check the crew outcome\n",
        "display(Markdown(result.tasks_output[0].raw))"
      ],
      "metadata": {
        "id": "mYLNIDCvw_n_"
      },
      "execution_count": null,
      "outputs": []
    },
    {
      "cell_type": "code",
      "source": [
        "# Export each of the tasks output\n",
        "# Exportin the company report\n",
        "file_name = f\"{company}_report.txt\"\n",
        "\n",
        "# Open the file in write mode and write the content\n",
        "with open(file_name, 'w') as file:\n",
        "    file.write(result.tasks_output[0].raw)\n",
        "\n",
        "# Export the interview questions\n",
        "file_name = f\"{job_position}.questions.txt\"\n",
        "\n",
        "# Open the file in write mode and write the content\n",
        "with open(file_name, 'w') as file:\n",
        "    file.write(result.tasks_output[2].raw)\n",
        "\n"
      ],
      "metadata": {
        "id": "eEzNx7014uBS"
      },
      "execution_count": null,
      "outputs": []
    },
    {
      "cell_type": "markdown",
      "source": [
        "# Interview Prep"
      ],
      "metadata": {
        "id": "QJC6sW8Cpa3L"
      }
    },
    {
      "cell_type": "code",
      "source": [
        "# Import the questions from directory\n",
        "with open(f\"{job_position}.questions.txt\", 'r') as file:\n",
        "    questions = file.read()"
      ],
      "metadata": {
        "id": "isL3rBGQ5iOU"
      },
      "execution_count": null,
      "outputs": []
    },
    {
      "cell_type": "code",
      "source": [
        "# AI Agent that ask the question\n",
        "interviewer_agent = Agent(\n",
        "    role = \"Interviewer Agent\",\n",
        "    goal = f\"Ask all questions from {questions} to the user\",\n",
        "    backstory = f\"You are an expert in job interviews in companies like {company}\",\n",
        "    llm = llm\n",
        ")"
      ],
      "metadata": {
        "id": "71kuOUbVpwlY"
      },
      "execution_count": null,
      "outputs": []
    },
    {
      "cell_type": "code",
      "source": [
        "# Interview Task\n",
        "interview_prep_task = Task(\n",
        "    description = f\"Ask a question from {questions} to the user\",\n",
        "    expected_output= f\"Ask only one question at a time\",\n",
        "    agent = interviewer_agent,\n",
        "    human_input = True\n",
        ")"
      ],
      "metadata": {
        "id": "UgzAIIOgqNug"
      },
      "execution_count": null,
      "outputs": []
    },
    {
      "cell_type": "code",
      "source": [
        "# Feedback Task\n",
        "feedback_task = Task(\n",
        "    description = f\"Give feedback to the user on its answer\",\n",
        "    expected_output= f\"Markdown answer what was good, could be improved and how to take it to the next level\",\n",
        "    agent = coach_agent,\n",
        "    context = [interview_prep_task]\n",
        ")"
      ],
      "metadata": {
        "id": "Vf7FNNTcqsLy"
      },
      "execution_count": null,
      "outputs": []
    },
    {
      "cell_type": "markdown",
      "source": [
        "## Interview Prep Crew"
      ],
      "metadata": {
        "id": "1BwkUkucvvwa"
      }
    },
    {
      "cell_type": "code",
      "source": [
        "# Assemble the interview Prep Crew\n",
        "crew = Crew(\n",
        "    agents = [interviewer_agent, coach_agent],\n",
        "    tasks = [interview_prep_task, feedback_task],\n",
        "    verbose = True,\n",
        "    process = Process.sequential\n",
        ")\n",
        "result = crew.kickoff({\"topic\": f\"Ask user all questions from {questions}\"})"
      ],
      "metadata": {
        "id": "g0m2-O-9vt0a"
      },
      "execution_count": null,
      "outputs": []
    },
    {
      "cell_type": "code",
      "source": [],
      "metadata": {
        "id": "C2tnKOiDyeD2"
      },
      "execution_count": null,
      "outputs": []
    }
  ]
}